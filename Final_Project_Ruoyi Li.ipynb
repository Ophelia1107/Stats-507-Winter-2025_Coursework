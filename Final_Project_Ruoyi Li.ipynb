{
 "cells": [
  {
   "cell_type": "code",
   "execution_count": 49,
   "id": "d0a5e3e7-3bd1-4e44-aa72-1c22eeac012a",
   "metadata": {},
   "outputs": [],
   "source": [
    "# Dataset Setup section:\n",
    "from datasets import load_dataset\n",
    "import pandas as pd\n",
    "\n",
    "# Load the full dataset from Hugging Face\n",
    "dataset = load_dataset(\"TrainingDataPro/customers-reviews-on-banks\")\n",
    "\n",
    "# Extract the targeted variables from the 'train' split\n",
    "df = dataset['train'].to_pandas()[['bank', 'star', 'text']]"
   ]
  },
  {
   "cell_type": "code",
   "execution_count": 50,
   "id": "bc418289-5d73-4df5-ad1a-5e3e6b561d4b",
   "metadata": {},
   "outputs": [],
   "source": [
    "from sklearn.model_selection import train_test_split\n",
    "from torch.utils.data import Dataset, DataLoader\n",
    "import torch\n",
    "import torch.nn as nn\n",
    "import pandas as pd\n",
    "import re\n",
    "from collections import Counter"
   ]
  },
  {
   "cell_type": "code",
   "execution_count": 53,
   "id": "2e8a2634-8917-4e8e-82cb-edbc2f40c5e8",
   "metadata": {},
   "outputs": [],
   "source": [
    "# ----- Data Preparation -----\n",
    "df = df[df[\"text\"].notna() & df[\"star\"].notna()]  # clean nulls"
   ]
  },
  {
   "cell_type": "code",
   "execution_count": 55,
   "id": "d1745f75-2c26-44de-a85c-c0fd781e0817",
   "metadata": {},
   "outputs": [],
   "source": [
    "def map_star_to_sentiment(star): #mapping from star to different levels 1,2,3\n",
    "    if star <= 2: return 0\n",
    "    elif star == 3: return 1\n",
    "    else: return 2"
   ]
  },
  {
   "cell_type": "code",
   "execution_count": 57,
   "id": "ca0b8529-d6e6-428b-8be1-a6886d9f79c3",
   "metadata": {},
   "outputs": [],
   "source": [
    "df[\"label\"] = df[\"star\"].apply(map_star_to_sentiment)"
   ]
  },
  {
   "cell_type": "code",
   "execution_count": 59,
   "id": "428f3e3b-8066-47d9-a9bb-922ae9f3fd88",
   "metadata": {},
   "outputs": [],
   "source": [
    "def tokenize(text):\n",
    "    return re.sub(r\"[^\\w\\s]\", \"\", text.lower()).split()"
   ]
  },
  {
   "cell_type": "code",
   "execution_count": 61,
   "id": "c45ca75f-5000-49ee-b8eb-cec7c2d84f2e",
   "metadata": {},
   "outputs": [],
   "source": [
    "# Build vocabulary from tokenized text data\n",
    "all_tokens = [token for text in df[\"text\"] for token in tokenize(text)]\n",
    "\n",
    "# Create a vocabulary: assign a unique index to each token\n",
    "# Start indexing from 2 to reserve 0 and 1 for special tokens\n",
    "vocab = {t: i+2 for i, (t, _) in enumerate(Counter(all_tokens).items())}\n",
    "# Add special tokens to the vocabulary\n",
    "vocab[\"<pad>\"] = 0\n",
    "vocab[\"<unk>\"] = 1\n",
    "\n",
    "#Convert text to fixed-length sequences of token IDs\n",
    "def text_to_seq(text, max_len=100):\n",
    "    ids = [vocab.get(t, 1) for t in tokenize(text)][:max_len]\n",
    "    return ids + [0]*(max_len - len(ids))\n",
    "    \n",
    "#Create a custom PyTorch dataset class\n",
    "class ReviewDataset(Dataset):\n",
    "    \n",
    "    def __init__(self, texts, labels):\n",
    "        self.texts = texts # List of review texts\n",
    "        self.labels = labels# Corresponding list of sentiment labels\n",
    "        \n",
    "    def __len__(self): return len(self.texts)   # Total number of samples\n",
    "    def __getitem__(self, i):\n",
    "        x = torch.tensor(text_to_seq(self.texts[i])) \n",
    "        y = torch.tensor(self.labels[i]) # Target label\n",
    "        return x, y"
   ]
  },
  {
   "cell_type": "code",
   "execution_count": 63,
   "id": "613993fc-f916-4d4d-bdd3-f305c5066179",
   "metadata": {},
   "outputs": [],
   "source": [
    "#  Split dataset into training and testing sets (80/20 ratio)\n",
    "train_df, test_df = train_test_split(df, test_size=0.2, stratify=df[\"label\"], random_state=42)\n",
    "\n",
    "#Create custom Dataset instances for training and testing sets\n",
    "train_ds = ReviewDataset(train_df[\"text\"].tolist(), train_df[\"label\"].tolist())\n",
    "test_ds = ReviewDataset(test_df[\"text\"].tolist(), test_df[\"label\"].tolist())\n",
    "train_loader = DataLoader(train_ds, batch_size=32, shuffle=True)\n",
    "test_loader = DataLoader(test_ds, batch_size=32)"
   ]
  },
  {
   "cell_type": "code",
   "execution_count": 65,
   "id": "3f72bea9-7a61-40c6-9a57-f48f805ee77f",
   "metadata": {},
   "outputs": [],
   "source": [
    "#Define LSTM-based classifier for sentiment analysis\n",
    "class LSTMClassifier(nn.Module):\n",
    "    def __init__(self, vocab_size, embed_dim=100, hidden_dim=128, output_dim=3):\n",
    "        super().__init__()\n",
    "        #Converts token IDs into dense vector\n",
    "        self.embedding = nn.Embedding(vocab_size, embed_dim, padding_idx=0)\n",
    "\n",
    "        #Processes sequences of embeddings\n",
    "        self.lstm = nn.LSTM(embed_dim, hidden_dim, batch_first=True)\n",
    "\n",
    "        #Maps LSTM output to class scores (e.g., 3 sentiment classes)\n",
    "        self.fc = nn.Linear(hidden_dim, output_dim)\n",
    "        \n",
    "    def forward(self, x):\n",
    "        x = self.embedding(x)\n",
    "        _, (h, _) = self.lstm(x)\n",
    "        return self.fc(h[-1])\n",
    "\n",
    "device = torch.device(\"cuda\" if torch.cuda.is_available() else \"cpu\")\n",
    "model = LSTMClassifier(len(vocab)).to(device)\n",
    "optimizer = torch.optim.Adam(model.parameters(), lr=1e-3)\n",
    "#Define loss function for multi-class classification\n",
    "criterion = nn.CrossEntropyLoss()"
   ]
  },
  {
   "cell_type": "code",
   "execution_count": 67,
   "id": "19a02b80-2f32-45ea-aeae-408dc16db47b",
   "metadata": {},
   "outputs": [
    {
     "name": "stdout",
     "output_type": "stream",
     "text": [
      "Epoch 1: Loss = 0.3421\n",
      "Epoch 2: Loss = 0.2149\n",
      "Epoch 3: Loss = 0.1664\n",
      "Epoch 4: Loss = 0.1339\n",
      "Epoch 5: Loss = 0.1105\n",
      "Epoch 6: Loss = 0.0872\n",
      "Epoch 7: Loss = 0.0697\n",
      "Epoch 8: Loss = 0.0562\n",
      "Epoch 9: Loss = 0.0472\n",
      "Epoch 10: Loss = 0.0392\n",
      "Epoch 11: Loss = 0.0310\n",
      "Epoch 12: Loss = 0.0242\n",
      "Epoch 13: Loss = 0.0234\n",
      "Epoch 14: Loss = 0.0197\n",
      "Epoch 15: Loss = 0.0162\n",
      "Epoch 16: Loss = 0.0135\n",
      "Epoch 17: Loss = 0.0121\n",
      "Epoch 18: Loss = 0.0164\n",
      "Epoch 19: Loss = 0.0103\n",
      "Epoch 20: Loss = 0.0098\n",
      "Epoch 21: Loss = 0.0113\n",
      "Epoch 22: Loss = 0.0092\n",
      "Epoch 23: Loss = 0.0081\n",
      "Epoch 24: Loss = 0.0045\n",
      "Epoch 25: Loss = 0.0085\n",
      "Epoch 26: Loss = 0.0066\n",
      "Epoch 27: Loss = 0.0060\n",
      "Epoch 28: Loss = 0.0024\n",
      "Epoch 29: Loss = 0.0011\n",
      "Epoch 30: Loss = 0.0009\n"
     ]
    }
   ],
   "source": [
    "#Track training loss for each epoch\n",
    "loss_history = []\n",
    "\n",
    "for epoch in range(30): #Train for 30 epochs\n",
    "    model.train()\n",
    "    total_loss = 0\n",
    "    for x, y in train_loader:\n",
    "        x, y = x.to(device), y.to(device)\n",
    "        optimizer.zero_grad() #Reset gradients\n",
    "        loss = criterion(model(x), y)  # Compare to true labels\n",
    "        loss.backward()\n",
    "        optimizer.step() # Update model weights\n",
    "        total_loss += loss.item()\n",
    "    \n",
    "    avg_loss = total_loss / len(train_loader) #Compute average loss for this epoch\n",
    "    loss_history.append(avg_loss)\n",
    "    print(f\"Epoch {epoch+1}: Loss = {avg_loss:.4f}\")"
   ]
  },
  {
   "cell_type": "code",
   "execution_count": 71,
   "id": "1b61dcec-7f2d-4d76-a3d9-ef7917ccfe2c",
   "metadata": {},
   "outputs": [
    {
     "data": {
      "image/png": "[encoded data removed]",
      "text/plain": [
       "<Figure size 800x500 with 1 Axes>"
      ]
     },
     "metadata": {},
     "output_type": "display_data"
    }
   ],
   "source": [
    "import matplotlib.pyplot as plt\n",
    "\n",
    "#Plot training loss over 30 epochs\n",
    "plt.figure(figsize=(8, 5))\n",
    "plt.plot(range(1, 31), loss_history, marker='o', linestyle='-', color='blue')\n",
    "plt.title(\"Training Loss over Epochs\")\n",
    "plt.xlabel(\"Epoch\")\n",
    "plt.ylabel(\"Loss\")\n",
    "plt.grid(True) #Add grid and customize x-axis ticks\n",
    "plt.xticks(range(0, 31, 5))  # tick every 5 epochs\n",
    "plt.tight_layout()\n",
    "plt.show()"
   ]
  },
  {
   "cell_type": "code",
   "execution_count": 129,
   "id": "d616c1c1-fae8-4346-b907-02e52d14ef26",
   "metadata": {},
   "outputs": [
    {
     "data": {
      "image/png": "[encoded data removed]",
      "text/plain": [
       "<Figure size 800x600 with 2 Axes>"
      ]
     },
     "metadata": {},
     "output_type": "display_data"
    }
   ],
   "source": [
    "#Using a confusion matrix to evaluate classification performance\n",
    "from sklearn.metrics import confusion_matrix\n",
    "\n",
    "# Assuming y_true and y_pred are defined\n",
    "cm = confusion_matrix(y_true, y_pred) #Compute confusion matrix\n",
    "labels = ['Negative', 'Neutral', 'Positive']\n",
    "\n",
    "plt.figure(figsize=(8, 6)) #Plot heatmap of confusion matrix\n",
    "sns.heatmap(cm, annot=True, fmt='d', cmap='Purples', xticklabels=labels, yticklabels=labels)\n",
    "plt.title(\"Confusion Matrix on Test Set\")\n",
    "plt.xlabel(\"Predicted label\")\n",
    "plt.ylabel(\"True label\")\n",
    "plt.tight_layout()\n",
    "plt.show()\n"
   ]
  },
  {
   "cell_type": "code",
   "execution_count": 113,
   "id": "864f5304-a775-44e1-aec3-74564de884b7",
   "metadata": {},
   "outputs": [],
   "source": [
    "#Prediction on Test Set\n",
    "def predict_sentiment(texts):\n",
    "    model.eval() # Set model to evaluation mode\n",
    "    preds = []   # To store predicted class labels\n",
    "    with torch.no_grad(): # Disable gradient\n",
    "        for t in texts:\n",
    "              # Convert text to padded sequence of token IDs\n",
    "            x = torch.tensor(text_to_seq(t)).unsqueeze(0).to(device)\n",
    "            y_hat = model(x)\n",
    "            # Get index of highest score (predicted class)\n",
    "            pred = torch.argmax(y_hat, dim=1).item()\n",
    "            preds.append(pred)\n",
    "    return preds\n",
    "#Add predicted sentiment labels to test dataframe\n",
    "test_df = test_df.copy()\n",
    "test_df[\"predicted_sentiment\"] = predict_sentiment(test_df[\"text\"].tolist())"
   ]
  },
  {
   "cell_type": "code",
   "execution_count": 137,
   "id": "6eb656b3-9cde-4f5f-b489-56f69384fb91",
   "metadata": {},
   "outputs": [
    {
     "name": "stdout",
     "output_type": "stream",
     "text": [
      "Top 5 Banks by Positive Sentiment Ratio:\n",
      "╒════╤═══════════════════════════╤════════════╤═══════════╤════════════╤══════════════════╕\n",
      "│    │ bank                      │   positive │   neutral │   negative │   positive_ratio │\n",
      "╞════╪═══════════════════════════╪════════════╪═══════════╪════════════╪══════════════════╡\n",
      "│  0 │ bmo-harris-bank           │          1 │         0 │          0 │         1        │\n",
      "├────┼───────────────────────────┼────────────┼───────────┼────────────┼──────────────────┤\n",
      "│  1 │ merrick_bank              │        141 │        15 │         74 │         0.613043 │\n",
      "├────┼───────────────────────────┼────────────┼───────────┼────────────┼──────────────────┤\n",
      "│  2 │ arrowhead_credit_union_ca │          2 │         0 │          2 │         0.5      │\n",
      "├────┼───────────────────────────┼────────────┼───────────┼────────────┼──────────────────┤\n",
      "│  3 │ armed_forces_bank         │          1 │         1 │          5 │         0.142857 │\n",
      "├────┼───────────────────────────┼────────────┼───────────┼────────────┼──────────────────┤\n",
      "│  4 │ usaa_banking              │         11 │         4 │         71 │         0.127907 │\n",
      "╘════╧═══════════════════════════╧════════════╧═══════════╧════════════╧══════════════════╛\n",
      "Bottom 5 Banks by Negative Sentiment Ratio:\n",
      "╒════╤══════════════════╤════════════╤═══════════╤════════════╤══════════════════╕\n",
      "│    │ bank             │   negative │   neutral │   positive │   negative_ratio │\n",
      "╞════╪══════════════════╪════════════╪═══════════╪════════════╪══════════════════╡\n",
      "│  0 │ ing-direct       │         35 │         0 │          0 │                1 │\n",
      "├────┼──────────────────┼────────────┼───────────┼────────────┼──────────────────┤\n",
      "│  1 │ tcf_bank         │         34 │         0 │          0 │                1 │\n",
      "├────┼──────────────────┼────────────┼───────────┼────────────┼──────────────────┤\n",
      "│  2 │ union_bank       │         13 │         0 │          0 │                1 │\n",
      "├────┼──────────────────┼────────────┼───────────┼────────────┼──────────────────┤\n",
      "│  3 │ arvest-bank      │         11 │         0 │          0 │                1 │\n",
      "├────┼──────────────────┼────────────┼───────────┼────────────┼──────────────────┤\n",
      "│  4 │ crescent_bank_la │          7 │         0 │          0 │                1 │\n",
      "╘════╧══════════════════╧════════════╧═══════════╧════════════╧══════════════════╛\n"
     ]
    }
   ],
   "source": [
    "\n",
    "# Aggregation by Bank \n",
    "summary = test_df.groupby(\"bank\")[\"predicted_sentiment\"].value_counts().unstack().fillna(0)\n",
    "summary.columns = [\"negative\", \"neutral\", \"positive\"]\n",
    "summary[\"total\"] = summary.sum(axis=1)\n",
    "summary[\"positive_ratio\"] = summary[\"positive\"] / summary[\"total\"]\n",
    "summary[\"negative_ratio\"] = summary[\"negative\"] / summary[\"total\"]\n",
    "\n",
    "#Top 5 / Bottom 5 summary\n",
    "from tabulate import tabulate\n",
    "bottom_5 = summary.sort_values(\n",
    "    by=[\"negative_ratio\", \"negative\"],\n",
    "    ascending=[False, False]  # sort both in descending order\n",
    ").head(5)\n",
    "\n",
    "#top 5:\n",
    "top_5 = summary.sort_values(\"positive_ratio\", ascending=False).head(5)\n",
    "print(\"Top 5 Banks by Positive Sentiment Ratio:\")\n",
    "print(tabulate(top_3.reset_index()[[\"bank\", \"positive\", \"neutral\", \"negative\", \"positive_ratio\"]],\n",
    "               headers=\"keys\", tablefmt=\"fancy_grid\"))\n",
    "\n",
    "# Bottom 5 Table \n",
    "print(\"Bottom 5 Banks by Negative Sentiment Ratio:\")\n",
    "print(tabulate(bottom_5.reset_index()[[\"bank\", \"negative\", \"neutral\", \"positive\", \"negative_ratio\"]],\n",
    "               headers=\"keys\", tablefmt=\"fancy_grid\"))\n"
   ]
  },
  {
   "cell_type": "code",
   "execution_count": 143,
   "id": "633c7d44-3f2d-4d67-8546-e7a837d8fe03",
   "metadata": {},
   "outputs": [
    {
     "name": "stdout",
     "output_type": "stream",
     "text": [
      "Top 5 Banks by Positive Star Rating Ratio:\n",
      "╒════╤═══════════════════════════╤════════════════╤═══════════════════╤════════════════╤══════════════════╕\n",
      "│    │ bank                      │   good_reviews │   neutral_reviews │   poor_reviews │   positive_ratio │\n",
      "╞════╪═══════════════════════════╪════════════════╪═══════════════════╪════════════════╪══════════════════╡\n",
      "│  0 │ bmo-harris-bank           │              1 │                 0 │              0 │         1        │\n",
      "├────┼───────────────────────────┼────────────────┼───────────────────┼────────────────┼──────────────────┤\n",
      "│  1 │ arrowhead_credit_union_ca │              3 │                 0 │              1 │         0.75     │\n",
      "├────┼───────────────────────────┼────────────────┼───────────────────┼────────────────┼──────────────────┤\n",
      "│  2 │ merrick_bank              │            145 │                16 │             69 │         0.630435 │\n",
      "├────┼───────────────────────────┼────────────────┼───────────────────┼────────────────┼──────────────────┤\n",
      "│  3 │ comerica_bank             │              5 │                 0 │             18 │         0.217391 │\n",
      "├────┼───────────────────────────┼────────────────┼───────────────────┼────────────────┼──────────────────┤\n",
      "│  4 │ sofi-money                │              3 │                 0 │             15 │         0.166667 │\n",
      "╘════╧═══════════════════════════╧════════════════╧═══════════════════╧════════════════╧══════════════════╛\n",
      "Bottom 5 Banks by Negative Star Rating Ratio:\n",
      "╒════╤══════════════════╤════════════════╤═══════════════════╤════════════════╤══════════════════╕\n",
      "│    │ bank             │   poor_reviews │   neutral_reviews │   good_reviews │   negative_ratio │\n",
      "╞════╪══════════════════╪════════════════╪═══════════════════╪════════════════╪══════════════════╡\n",
      "│  0 │ compass_bank     │             37 │                 0 │              0 │                1 │\n",
      "├────┼──────────────────┼────────────────┼───────────────────┼────────────────┼──────────────────┤\n",
      "│  1 │ arvest-bank      │             11 │                 0 │              0 │                1 │\n",
      "├────┼──────────────────┼────────────────┼───────────────────┼────────────────┼──────────────────┤\n",
      "│  2 │ crescent_bank_la │              7 │                 0 │              0 │                1 │\n",
      "├────┼──────────────────┼────────────────┼───────────────────┼────────────────┼──────────────────┤\n",
      "│  3 │ associated       │              6 │                 0 │              0 │                1 │\n",
      "├────┼──────────────────┼────────────────┼───────────────────┼────────────────┼──────────────────┤\n",
      "│  4 │ cit-bank         │              1 │                 0 │              0 │                1 │\n",
      "╘════╧══════════════════╧════════════════╧═══════════════════╧════════════════╧══════════════════╛\n"
     ]
    }
   ],
   "source": [
    "#Produce the actual result using the 20% testing dataset based on Star Ratings: \n",
    "\n",
    "from tabulate import tabulate\n",
    "\n",
    "# ----- Star Rating Analysis on Test Set -----\n",
    "\n",
    "# Categorize the original star rating\n",
    "def categorize_star_rating(star):\n",
    "    if star in [1, 2]:\n",
    "        return 'poor'\n",
    "    elif star == 3:\n",
    "        return 'neutral'\n",
    "    elif star in [4, 5]:\n",
    "        return 'good'\n",
    "    else:\n",
    "        return 'unknown'\n",
    "\n",
    "test_df[\"rating_category\"] = test_df[\"star\"].apply(categorize_star_rating)\n",
    "\n",
    "# Group by bank\n",
    "star_summary = test_df.groupby(\"bank\").agg(\n",
    "    review_count=('star', 'count'),\n",
    "    poor_reviews=('rating_category', lambda x: (x == 'poor').sum()),\n",
    "    neutral_reviews=('rating_category', lambda x: (x == 'neutral').sum()),\n",
    "    good_reviews=('rating_category', lambda x: (x == 'good').sum())\n",
    ")\n",
    "\n",
    "# Calculate good_ratio and negative_ratio\n",
    "star_summary[\"positive_ratio\"] = star_summary[\"good_reviews\"] / star_summary[\"review_count\"]\n",
    "star_summary[\"negative_ratio\"] = star_summary[\"poor_reviews\"] / star_summary[\"review_count\"]\n",
    "\n",
    "# Top 5 by positive ratio\n",
    "top_5_star = star_summary.sort_values(\"positive_ratio\", ascending=False).head(5)\n",
    "\n",
    "# Bottom 5 by negative ratio (with tie-breaker)\n",
    "bottom_5_star = star_summary.sort_values(\n",
    "    by=[\"negative_ratio\", \"poor_reviews\"],\n",
    "    ascending=[False, False]\n",
    ").head(5)\n",
    "\n",
    "# Print star-based ranking tables\n",
    "print(\"Top 5 Banks by Positive Star Rating Ratio:\")\n",
    "print(tabulate(top_3_star.reset_index()[[\"bank\", \"good_reviews\", \"neutral_reviews\", \"poor_reviews\", \"positive_ratio\"]],\n",
    "               headers=\"keys\", tablefmt=\"fancy_grid\"))\n",
    "\n",
    "print(\"Bottom 5 Banks by Negative Star Rating Ratio:\")\n",
    "print(tabulate(bottom_5_star.reset_index()[[\"bank\", \"poor_reviews\", \"neutral_reviews\", \"good_reviews\", \"negative_ratio\"]],\n",
    "               headers=\"keys\", tablefmt=\"fancy_grid\"))\n"
   ]
  },
  {
   "cell_type": "code",
   "execution_count": null,
   "id": "eab58a42-f842-4a7a-b27e-07d1f1713802",
   "metadata": {},
   "outputs": [],
   "source": []
  }
 ],
 "metadata": {
  "kernelspec": {
   "display_name": "Python 3 (ipykernel)",
   "language": "python",
   "name": "python3"
  },
  "language_info": {
   "codemirror_mode": {
    "name": "ipython",
    "version": 3
   },
   "file_extension": ".py",
   "mimetype": "text/x-python",
   "name": "python",
   "nbconvert_exporter": "python",
   "pygments_lexer": "ipython3",
   "version": "3.12.4"
  }
 },
 "nbformat": 4,
 "nbformat_minor": 5
}
